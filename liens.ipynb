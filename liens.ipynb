{
 "cells": [
  {
   "cell_type": "markdown",
   "metadata": {},
   "source": [
    "### Chatbot langchain using Mistral & Ollama :\n",
    "- https://mobiarch.wordpress.com/2024/02/19/run-rag-locally-using-mistral-ollama-and-langchain/\n",
    "- https://python.langchain.com/docs/integrations/chat/ollama/\n",
    "- https://python.langchain.com/docs/integrations/llms/ollama/\n",
    "\n",
    "### Scraping with BeautifulSoup & Requests :\n",
    "- https://www.data-bird.co/blog/web-scraping-python#comment-faire-du-web-scraping-avec-python\n",
    "- https://www.crummy.com/software/BeautifulSoup/bs4/doc/\n",
    "- https://fr.python-requests.org/en/latest/user/quickstart.html\n"
   ]
  }
 ],
 "metadata": {
  "language_info": {
   "name": "python"
  }
 },
 "nbformat": 4,
 "nbformat_minor": 2
}
